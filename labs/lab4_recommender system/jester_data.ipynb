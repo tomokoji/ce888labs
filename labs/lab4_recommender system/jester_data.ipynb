{
 "cells": [
  {
   "cell_type": "markdown",
   "metadata": {},
   "source": [
    "# Jester data exercise\n",
    "\n",
    "This file is created as part of requirements in CE888.<br>\n",
    "**Author** : Tomoko Ayakawa<br>\n",
    "**Created on**: 4 February 2019<br>\n",
    "**Last modified**: 13 February 2019"
   ]
  },
  {
   "cell_type": "markdown",
   "metadata": {},
   "source": [
    "## (1) Import libraries"
   ]
  },
  {
   "cell_type": "code",
   "execution_count": 205,
   "metadata": {},
   "outputs": [],
   "source": [
    "import pandas as pd\n",
    "import numpy as np\n",
    "import seaborn as sns\n",
    "import matplotlib.pyplot as plt\n",
    "from IPython.display import Image\n",
    "np.set_printoptions(precision = 3)"
   ]
  },
  {
   "cell_type": "markdown",
   "metadata": {},
   "source": [
    "## (2) Load data"
   ]
  },
  {
   "cell_type": "code",
   "execution_count": 2,
   "metadata": {},
   "outputs": [
    {
     "data": {
      "text/html": [
       "<div>\n",
       "<style scoped>\n",
       "    .dataframe tbody tr th:only-of-type {\n",
       "        vertical-align: middle;\n",
       "    }\n",
       "\n",
       "    .dataframe tbody tr th {\n",
       "        vertical-align: top;\n",
       "    }\n",
       "\n",
       "    .dataframe thead th {\n",
       "        text-align: right;\n",
       "    }\n",
       "</style>\n",
       "<table border=\"1\" class=\"dataframe\">\n",
       "  <thead>\n",
       "    <tr style=\"text-align: right;\">\n",
       "      <th></th>\n",
       "      <th>1</th>\n",
       "      <th>2</th>\n",
       "      <th>3</th>\n",
       "      <th>4</th>\n",
       "      <th>5</th>\n",
       "      <th>6</th>\n",
       "      <th>7</th>\n",
       "      <th>8</th>\n",
       "      <th>9</th>\n",
       "      <th>10</th>\n",
       "      <th>...</th>\n",
       "      <th>91</th>\n",
       "      <th>92</th>\n",
       "      <th>93</th>\n",
       "      <th>94</th>\n",
       "      <th>95</th>\n",
       "      <th>96</th>\n",
       "      <th>97</th>\n",
       "      <th>98</th>\n",
       "      <th>99</th>\n",
       "      <th>100</th>\n",
       "    </tr>\n",
       "    <tr>\n",
       "      <th>0</th>\n",
       "      <th></th>\n",
       "      <th></th>\n",
       "      <th></th>\n",
       "      <th></th>\n",
       "      <th></th>\n",
       "      <th></th>\n",
       "      <th></th>\n",
       "      <th></th>\n",
       "      <th></th>\n",
       "      <th></th>\n",
       "      <th></th>\n",
       "      <th></th>\n",
       "      <th></th>\n",
       "      <th></th>\n",
       "      <th></th>\n",
       "      <th></th>\n",
       "      <th></th>\n",
       "      <th></th>\n",
       "      <th></th>\n",
       "      <th></th>\n",
       "      <th></th>\n",
       "    </tr>\n",
       "  </thead>\n",
       "  <tbody>\n",
       "    <tr>\n",
       "      <th>74</th>\n",
       "      <td>-7.82</td>\n",
       "      <td>8.79</td>\n",
       "      <td>-9.66</td>\n",
       "      <td>-8.16</td>\n",
       "      <td>-7.52</td>\n",
       "      <td>-8.50</td>\n",
       "      <td>-9.85</td>\n",
       "      <td>4.17</td>\n",
       "      <td>-8.98</td>\n",
       "      <td>-4.76</td>\n",
       "      <td>...</td>\n",
       "      <td>2.82</td>\n",
       "      <td>99.00</td>\n",
       "      <td>99.00</td>\n",
       "      <td>99.00</td>\n",
       "      <td>99.00</td>\n",
       "      <td>99.00</td>\n",
       "      <td>-5.63</td>\n",
       "      <td>99.00</td>\n",
       "      <td>99.00</td>\n",
       "      <td>99.00</td>\n",
       "    </tr>\n",
       "    <tr>\n",
       "      <th>100</th>\n",
       "      <td>4.08</td>\n",
       "      <td>-0.29</td>\n",
       "      <td>6.36</td>\n",
       "      <td>4.37</td>\n",
       "      <td>-2.38</td>\n",
       "      <td>-9.66</td>\n",
       "      <td>-0.73</td>\n",
       "      <td>-5.34</td>\n",
       "      <td>8.88</td>\n",
       "      <td>9.22</td>\n",
       "      <td>...</td>\n",
       "      <td>2.82</td>\n",
       "      <td>-4.95</td>\n",
       "      <td>-0.29</td>\n",
       "      <td>7.86</td>\n",
       "      <td>-0.19</td>\n",
       "      <td>-2.14</td>\n",
       "      <td>3.06</td>\n",
       "      <td>0.34</td>\n",
       "      <td>-4.32</td>\n",
       "      <td>1.07</td>\n",
       "    </tr>\n",
       "    <tr>\n",
       "      <th>49</th>\n",
       "      <td>99.00</td>\n",
       "      <td>99.00</td>\n",
       "      <td>99.00</td>\n",
       "      <td>99.00</td>\n",
       "      <td>9.03</td>\n",
       "      <td>9.27</td>\n",
       "      <td>9.03</td>\n",
       "      <td>9.27</td>\n",
       "      <td>99.00</td>\n",
       "      <td>99.00</td>\n",
       "      <td>...</td>\n",
       "      <td>99.00</td>\n",
       "      <td>99.00</td>\n",
       "      <td>99.00</td>\n",
       "      <td>9.08</td>\n",
       "      <td>99.00</td>\n",
       "      <td>99.00</td>\n",
       "      <td>99.00</td>\n",
       "      <td>99.00</td>\n",
       "      <td>99.00</td>\n",
       "      <td>99.00</td>\n",
       "    </tr>\n",
       "    <tr>\n",
       "      <th>48</th>\n",
       "      <td>99.00</td>\n",
       "      <td>8.35</td>\n",
       "      <td>99.00</td>\n",
       "      <td>99.00</td>\n",
       "      <td>1.80</td>\n",
       "      <td>8.16</td>\n",
       "      <td>-2.82</td>\n",
       "      <td>6.21</td>\n",
       "      <td>99.00</td>\n",
       "      <td>1.84</td>\n",
       "      <td>...</td>\n",
       "      <td>99.00</td>\n",
       "      <td>99.00</td>\n",
       "      <td>99.00</td>\n",
       "      <td>0.53</td>\n",
       "      <td>99.00</td>\n",
       "      <td>99.00</td>\n",
       "      <td>99.00</td>\n",
       "      <td>99.00</td>\n",
       "      <td>99.00</td>\n",
       "      <td>99.00</td>\n",
       "    </tr>\n",
       "    <tr>\n",
       "      <th>91</th>\n",
       "      <td>8.50</td>\n",
       "      <td>4.61</td>\n",
       "      <td>-4.17</td>\n",
       "      <td>-5.39</td>\n",
       "      <td>1.36</td>\n",
       "      <td>1.60</td>\n",
       "      <td>7.04</td>\n",
       "      <td>4.61</td>\n",
       "      <td>-0.44</td>\n",
       "      <td>5.73</td>\n",
       "      <td>...</td>\n",
       "      <td>5.19</td>\n",
       "      <td>5.58</td>\n",
       "      <td>4.27</td>\n",
       "      <td>5.19</td>\n",
       "      <td>5.73</td>\n",
       "      <td>1.55</td>\n",
       "      <td>3.11</td>\n",
       "      <td>6.55</td>\n",
       "      <td>1.80</td>\n",
       "      <td>1.60</td>\n",
       "    </tr>\n",
       "  </tbody>\n",
       "</table>\n",
       "<p>5 rows × 100 columns</p>\n",
       "</div>"
      ],
      "text/plain": [
       "       1      2      3      4     5     6     7     8      9      10   ...  \\\n",
       "0                                                                      ...   \n",
       "74   -7.82   8.79  -9.66  -8.16 -7.52 -8.50 -9.85  4.17  -8.98  -4.76  ...   \n",
       "100   4.08  -0.29   6.36   4.37 -2.38 -9.66 -0.73 -5.34   8.88   9.22  ...   \n",
       "49   99.00  99.00  99.00  99.00  9.03  9.27  9.03  9.27  99.00  99.00  ...   \n",
       "48   99.00   8.35  99.00  99.00  1.80  8.16 -2.82  6.21  99.00   1.84  ...   \n",
       "91    8.50   4.61  -4.17  -5.39  1.36  1.60  7.04  4.61  -0.44   5.73  ...   \n",
       "\n",
       "       91     92     93     94     95     96     97     98     99     100  \n",
       "0                                                                          \n",
       "74    2.82  99.00  99.00  99.00  99.00  99.00  -5.63  99.00  99.00  99.00  \n",
       "100   2.82  -4.95  -0.29   7.86  -0.19  -2.14   3.06   0.34  -4.32   1.07  \n",
       "49   99.00  99.00  99.00   9.08  99.00  99.00  99.00  99.00  99.00  99.00  \n",
       "48   99.00  99.00  99.00   0.53  99.00  99.00  99.00  99.00  99.00  99.00  \n",
       "91    5.19   5.58   4.27   5.19   5.73   1.55   3.11   6.55   1.80   1.60  \n",
       "\n",
       "[5 rows x 100 columns]"
      ]
     },
     "execution_count": 2,
     "metadata": {},
     "output_type": "execute_result"
    }
   ],
   "source": [
    "joke_rating_df = pd.read_csv(\"jester-data-1.csv\", header=None, index_col=0)\n",
    "joke_rating_df.head(5)"
   ]
  },
  {
   "cell_type": "markdown",
   "metadata": {},
   "source": [
    "#### Prepare trainig, validation and test datasets"
   ]
  },
  {
   "cell_type": "code",
   "execution_count": 3,
   "metadata": {},
   "outputs": [],
   "source": [
    "num_users = joke_rating_df.shape[0]\n",
    "num_jokes = joke_rating_df.shape[1]"
   ]
  },
  {
   "cell_type": "code",
   "execution_count": 4,
   "metadata": {},
   "outputs": [],
   "source": [
    "# obtain index of cells which are not 99\n",
    "trg_idx=[]\n",
    "tst_idx=[]\n",
    "for i in range (num_users):\n",
    "    for j in range (num_jokes):\n",
    "        if joke_rating_df.values[i][j] != 99:\n",
    "            trg_idx.append ([i,j])\n",
    "        else:\n",
    "            tst_idx.append ([i,j])"
   ]
  },
  {
   "cell_type": "markdown",
   "metadata": {},
   "source": [
    "#### Split the data into training and validation datasets"
   ]
  },
  {
   "cell_type": "code",
   "execution_count": 169,
   "metadata": {},
   "outputs": [
    {
     "name": "stdout",
     "output_type": "stream",
     "text": [
      "Training: 345982, Validation: 43248, Test: 43248, Latent (99s): 687845\n"
     ]
    }
   ],
   "source": [
    "# shuffule the list of target index\n",
    "np.random.shuffle(trg_idx)\n",
    "\n",
    "num_trg_idx = len (trg_idx)\n",
    "split = num_trg_idx//10\n",
    "from sklearn.model_selection import train_test_split\n",
    "trg_idx, vld_idx = train_test_split(trg_idx, test_size=0.2)\n",
    "vld_idx, vld_tst_idx = train_test_split(vld_idx, test_size=0.5)    \n",
    "#vld_idx = trg_idx[:split]\n",
    "#trg_idx = trg_idx[split:]\n",
    "\n",
    "print (\"Training: %d, Validation: %d, Test: %d, Latent (99s): %d\" % \\\n",
    "       (len(trg_idx), len(vld_idx), len(vld_tst_idx), len(tst_idx)))"
   ]
  },
  {
   "cell_type": "markdown",
   "metadata": {},
   "source": [
    "## (3) Latent factor modelling\n",
    "#### Set random latent factors for users and jokes"
   ]
  },
  {
   "cell_type": "code",
   "execution_count": 226,
   "metadata": {},
   "outputs": [],
   "source": [
    "n_factors = 3\n",
    "\n",
    "latent_user_factors = np.random.random((num_users, n_factors))\n",
    "latent_joke_factors = np.random.random((num_jokes,n_factors))"
   ]
  },
  {
   "cell_type": "markdown",
   "metadata": {},
   "source": [
    "#### Predict rating\n",
    "Compute the rating by computing dot product of `latent user factor` and `latent joke factor`."
   ]
  },
  {
   "cell_type": "code",
   "execution_count": 227,
   "metadata": {},
   "outputs": [],
   "source": [
    "def predict_rating(user_id,joke_id):\n",
    "    user_factor = latent_user_factors[user_id]\n",
    "    joke_factor = latent_joke_factors[joke_id]\n",
    "\n",
    "    return user_factor.dot(joke_factor)"
   ]
  },
  {
   "cell_type": "markdown",
   "metadata": {},
   "source": [
    "#### Train the model\n",
    "1. Compute the rating with current latent factors\n",
    "2. Update the latent factors proportionally to the error\n",
    "\n",
    "Argument: `alpha` = learning model (default 0.0001)"
   ]
  },
  {
   "cell_type": "code",
   "execution_count": 228,
   "metadata": {},
   "outputs": [],
   "source": [
    "def train(user_id, joke_id, rating, mode, alpha = 0.0001):\n",
    "    pred_rating = predict_rating(user_id, joke_id)\n",
    "    err = pred_rating - rating\n",
    "    \n",
    "    # update latent factors when mode = 0 (training)\n",
    "    if mode == 0:\n",
    "        user_factor_values = latent_user_factors[user_id][:]\n",
    "        latent_user_factors[user_id] -= alpha * err * latent_joke_factors[joke_id]\n",
    "        latent_joke_factors[joke_id] -= alpha * err * user_factor_values\n",
    "    \n",
    "    return err"
   ]
  },
  {
   "cell_type": "markdown",
   "metadata": {},
   "source": [
    "#### Store the errors"
   ]
  },
  {
   "cell_type": "code",
   "execution_count": 229,
   "metadata": {},
   "outputs": [],
   "source": [
    "def compute_error(indices, mode):\n",
    "    errors = []\n",
    "    for i in indices:\n",
    "        user_id, joke_id = i[0], i[1]\n",
    "        rating = joke_rating_np[user_id][joke_id]\n",
    "        if (not np.isnan (rating)):\n",
    "            err = train (user_id, joke_id, rating, mode)\n",
    "            errors.append (err)\n",
    "    \n",
    "    return errors"
   ]
  },
  {
   "cell_type": "markdown",
   "metadata": {},
   "source": [
    "#### Training iteration\n",
    "Iterate training for `iterations` times.<br>\n",
    "Ratio of Training:Validation:Test = 0.8:0.1:0.1."
   ]
  },
  {
   "cell_type": "code",
   "execution_count": 230,
   "metadata": {},
   "outputs": [],
   "source": [
    "joke_rating_np = joke_rating_df.values\n",
    "\n",
    "def sgd(iterations = 300000):\n",
    "    minMSE, minMSEIte = 0, -1\n",
    "    trgMSEs, vldMSEs = [], []\n",
    "    \n",
    "    \n",
    "    for i in range(iterations):\n",
    "        # training\n",
    "        trg_error = compute_error (trg_idx, 0)\n",
    "        trg_mse = (np.array(trg_error) ** 2).mean() \n",
    "        trgMSEs.append(trg_mse)\n",
    "        \n",
    "        # validation\n",
    "        vld_error = compute_error (vld_idx, 1)\n",
    "        vld_mse = (np.array(vld_error) ** 2).mean()   \n",
    "        if ((minMSEIte==-1) or (minMSE>vld_mse) ):\n",
    "            minMSE=vld_mse\n",
    "            minMSEIte=i\n",
    "        vldMSEs.append(vld_mse)\n",
    "\n",
    "        if(i%100 == 0 ):\n",
    "            print (\"@iteration %6d: Training MSE = %.5f | Validation MSE = %.5f\"\\\n",
    "                    % (i, trg_mse, vld_mse))\n",
    "    print (\"\\nMinimum validation MSE is %f at iteration %d\" % (minMSE, minMSEIte))\n",
    "    \n",
    "    return trgMSEs, vldMSEs"
   ]
  },
  {
   "cell_type": "code",
   "execution_count": 231,
   "metadata": {},
   "outputs": [
    {
     "name": "stdout",
     "output_type": "stream",
     "text": [
      "@iteration      0: Training MSE = 27.00644 | Validation MSE = 26.46796\n",
      "@iteration    100: Training MSE = 19.51137 | Validation MSE = 21.93953\n",
      "\n",
      "Minimum validation MSE is 20.052380 at iteration 155\n"
     ]
    }
   ],
   "source": [
    "# lowest validation MSE and test MSE after 200 iterations\n",
    "## n_factors=1, alpha = 0.0001, MSE = @iteration (Test MSE )\n",
    "## n_factors=2, alpha = 0.0001, MSE = 18.928472 @iteration 135 (Test MSE 19.31212)\n",
    "## n_factors=3, alpha = 0.0001, MSE = 18.872904 @iteration 124 (Test MSE 19.38781)\n",
    "## n_factors=4, alpha = 0.0001, MSE = 18.868014 @iteration 114 (Test MSE 19.58481)\n",
    "## n_factors=5, alpha = 0.0001, MSE = 18.880447 @iteration 112 (Test MSE 19.70796)\n",
    "## n_factors=6, alpha = 0.0001, MSE = 17.132327 @iteration 140 (Test MSE 17.36022)\n",
    "## n_factors=7, alpha = 0.0001, MSE = 17.150975 @iteration 142 (Test MSE 17.12852)\n",
    "## n_factors=8, alpha = 0.0001, MSE = 18.943137 @iteration 96 (Test MSE 20.75772)\n",
    "## n_factors=9, alpha = 0.0001, MSE = 18.927403 @iteration 96 (Test MSE 20.85837)\n",
    "## n_factors=10, alpha = 0.0001, MSE = 17.174647 @iteration 117 (Test MSE 17.51095)\n",
    "## with 0.001, unknown error occured twice and Null value was returned as MSE\n",
    "\n",
    "trgMSEs, vldMSEs = sgd (200)"
   ]
  },
  {
   "cell_type": "markdown",
   "metadata": {},
   "source": [
    "#### Test the model"
   ]
  },
  {
   "cell_type": "code",
   "execution_count": 232,
   "metadata": {},
   "outputs": [
    {
     "name": "stdout",
     "output_type": "stream",
     "text": [
      "Test MSE = 20.50282\n"
     ]
    }
   ],
   "source": [
    "vld_tst_error = compute_error (vld_tst_idx, 1)\n",
    "vld_tst_mse = (np.array(vld_tst_error) ** 2).mean()   \n",
    "\n",
    "print (\"Test MSE = %.5f\" % vld_tst_mse)"
   ]
  },
  {
   "cell_type": "markdown",
   "metadata": {},
   "source": [
    "#### Plot the MSE"
   ]
  },
  {
   "cell_type": "code",
   "execution_count": 234,
   "metadata": {},
   "outputs": [
    {
     "data": {
      "text/plain": [
       "20.502818413961535"
      ]
     },
     "execution_count": 234,
     "metadata": {},
     "output_type": "execute_result"
    }
   ],
   "source": [
    "vld_tst_mse"
   ]
  },
  {
   "cell_type": "code",
   "execution_count": 237,
   "metadata": {},
   "outputs": [
    {
     "data": {
      "image/png": "[encoded data removed]",
      "text/plain": [
       "<matplotlib.figure.Figure at 0x12c7d6710>"
      ]
     },
     "metadata": {},
     "output_type": "display_data"
    },
    {
     "data": {
      "text/plain": [
       "<matplotlib.figure.Figure at 0x12db59f60>"
      ]
     },
     "metadata": {},
     "output_type": "display_data"
    }
   ],
   "source": [
    "sns.set()\n",
    "sns.set_style('whitegrid')\n",
    "\n",
    "x=range(len(trgMSEs))\n",
    "testMSEs=[vld_tst_mse]*len(trgMSEs)\n",
    "fig = plt.figure()\n",
    "ax = fig.add_subplot(1, 1, 1)\n",
    "ax.plot(x, trgMSEs, label=\"Training MSE\")\n",
    "ax.plot(x, vldMSEs, label=\"Validation MSE\")\n",
    "ax.plot(x, testMSEs, label=\"Test MSE\", linestyle=\"dashed\")\n",
    "ax.set_xlabel(\"training epoch\")\n",
    "ax.set_ylabel(\"MSE\")\n",
    "ax.legend()\n",
    "plt.show()\n",
    "\n",
    "plt.savefig(\"MSE_per_training_epoch.png\", bbox_inches='tight')"
   ]
  },
  {
   "cell_type": "markdown",
   "metadata": {},
   "source": [
    "## (4) The best and the worst rated jokes"
   ]
  },
  {
   "cell_type": "code",
   "execution_count": 238,
   "metadata": {},
   "outputs": [],
   "source": [
    "import read_jokes as RJ\n",
    "jokes_list = RJ.get_jokes()"
   ]
  },
  {
   "cell_type": "code",
   "execution_count": 239,
   "metadata": {},
   "outputs": [],
   "source": [
    "# fill test data (99) with predicted values\n",
    "joke_rating_copy_np = joke_rating_np\n",
    "for i in tst_idx:\n",
    "    user_id, joke_id = i[0], i[1]\n",
    "    pred_rating = predict_rating(user_id, joke_id)\n",
    "    joke_rating_copy_np[user_id][joke_id] = pred_rating\n",
    "joke_rating_copy_df = pd.DataFrame(joke_rating_copy_np)"
   ]
  },
  {
   "cell_type": "code",
   "execution_count": 240,
   "metadata": {},
   "outputs": [
    {
     "name": "stdout",
     "output_type": "stream",
     "text": [
      "Best rated joke: index 49, mean rate 3.665672\n",
      "\u001b[34m\n",
      "Q: What do Monica Lewinsky and Bob Dole have in common?\n",
      "A: They were both upset when Bill finished first.\n",
      "\u001b[0m\n",
      "Worst rated joke: index 57,mean rate -3.765082\n",
      "\u001b[34m\n",
      "Q: How many programmers does it take to change a lightbulb?\n",
      "\n",
      "A: NONE!   That's a hardware problem....\n",
      "\u001b[0m\n"
     ]
    }
   ],
   "source": [
    "# mean score of each joke\n",
    "mean = joke_rating_copy_df.mean()\n",
    "\n",
    "# best score and its column index\n",
    "best = mean.max()\n",
    "best_idx = mean.idxmax()\n",
    "\n",
    "# worst score and its column index\n",
    "worst = mean.min()\n",
    "worst_idx = mean.idxmin()\n",
    "\n",
    "BLUE = \"\\033[34m\"\n",
    "RESET = \"\\033[0m\"\n",
    "print (\"Best rated joke: index %d, mean rate %f\\n\" \\\n",
    "       \"%s%s%s\" % (best_idx, best, BLUE, jokes_list[best_idx], RESET))\n",
    "print (\"Worst rated joke: index %d,mean rate %f\\n\" \\\n",
    "       \"%s%s%s\" % (worst_idx, worst, BLUE, jokes_list[worst_idx], RESET))"
   ]
  },
  {
   "cell_type": "code",
   "execution_count": null,
   "metadata": {},
   "outputs": [],
   "source": []
  }
 ],
 "metadata": {
  "kernelspec": {
   "display_name": "Python 3",
   "language": "python",
   "name": "python3"
  },
  "language_info": {
   "codemirror_mode": {
    "name": "ipython",
    "version": 3
   },
   "file_extension": ".py",
   "mimetype": "text/x-python",
   "name": "python",
   "nbconvert_exporter": "python",
   "pygments_lexer": "ipython3",
   "version": "3.6.4"
  }
 },
 "nbformat": 4,
 "nbformat_minor": 2
}
