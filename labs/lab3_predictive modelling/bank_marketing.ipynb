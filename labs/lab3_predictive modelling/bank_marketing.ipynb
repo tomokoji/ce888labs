{
 "cells": [
  {
   "cell_type": "markdown",
   "metadata": {},
   "source": [
    "# Bank Marketing dataset exercise\n",
    "\n",
    "This file is created as part of requirements in CE888.<br>\n",
    "**Author** : Tomoko Ayakawa<br>\n",
    "**Created on**: 28 January 2019<br>\n",
    "**Last modified**: 2 February 2019"
   ]
  },
  {
   "cell_type": "markdown",
   "metadata": {},
   "source": [
    "## Load data from a csv file"
   ]
  },
  {
   "cell_type": "code",
   "execution_count": 2,
   "metadata": {},
   "outputs": [],
   "source": [
    "# import labraries\n",
    "import pandas as pd\n",
    "import matplotlib.pyplot as plt\n",
    "import seaborn as sns\n",
    "import numpy as np\n",
    "\n",
    "df = pd.read_csv('./bank-additional-full.csv', sep=';')"
   ]
  },
  {
   "cell_type": "code",
   "execution_count": 3,
   "metadata": {},
   "outputs": [
    {
     "name": "stdout",
     "output_type": "stream",
     "text": [
      "The data has 20 attributes\n"
     ]
    },
    {
     "data": {
      "text/plain": [
       "Index(['age', 'job', 'marital', 'education', 'default', 'housing', 'loan',\n",
       "       'contact', 'month', 'day_of_week', 'duration', 'campaign', 'pdays',\n",
       "       'previous', 'poutcome', 'emp.var.rate', 'cons.price.idx',\n",
       "       'cons.conf.idx', 'euribor3m', 'nr.employed'],\n",
       "      dtype='object')"
      ]
     },
     "execution_count": 3,
     "metadata": {},
     "output_type": "execute_result"
    }
   ],
   "source": [
    "print (\"The data has %d attributes\" % (len(df.columns) - 1))\n",
    "df.columns[:-1]"
   ]
  },
  {
   "cell_type": "markdown",
   "metadata": {},
   "source": [
    "## Create a classifier"
   ]
  },
  {
   "cell_type": "code",
   "execution_count": 4,
   "metadata": {},
   "outputs": [],
   "source": [
    "from sklearn.ensemble import ExtraTreesClassifier\n",
    "clf = ExtraTreesClassifier()"
   ]
  },
  {
   "cell_type": "markdown",
   "metadata": {},
   "source": [
    "Format the data\n",
    "- Convert categorical attribute to dummy variables\n",
    "- Remove columns `y_no` and `duration`"
   ]
  },
  {
   "cell_type": "code",
   "execution_count": 35,
   "metadata": {},
   "outputs": [
    {
     "name": "stdout",
     "output_type": "stream",
     "text": [
      "The data has 62 attributes\n",
      "Feature names: Index(['age', 'campaign', 'pdays', 'previous', 'emp.var.rate',\n",
      "       'cons.price.idx', 'cons.conf.idx', 'euribor3m', 'nr.employed',\n",
      "       'job_admin.', 'job_blue-collar', 'job_entrepreneur', 'job_housemaid',\n",
      "       'job_management', 'job_retired', 'job_self-employed', 'job_services',\n",
      "       'job_student', 'job_technician', 'job_unemployed', 'job_unknown',\n",
      "       'marital_divorced', 'marital_married', 'marital_single',\n",
      "       'marital_unknown', 'education_basic.4y', 'education_basic.6y',\n",
      "       'education_basic.9y', 'education_high.school', 'education_illiterate',\n",
      "       'education_professional.course', 'education_university.degree',\n",
      "       'education_unknown', 'default_no', 'default_unknown', 'default_yes',\n",
      "       'housing_no', 'housing_unknown', 'housing_yes', 'loan_no',\n",
      "       'loan_unknown', 'loan_yes', 'contact_cellular', 'contact_telephone',\n",
      "       'month_apr', 'month_aug', 'month_dec', 'month_jul', 'month_jun',\n",
      "       'month_mar', 'month_may', 'month_nov', 'month_oct', 'month_sep',\n",
      "       'day_of_week_fri', 'day_of_week_mon', 'day_of_week_thu',\n",
      "       'day_of_week_tue', 'day_of_week_wed', 'poutcome_failure',\n",
      "       'poutcome_nonexistent', 'poutcome_success'],\n",
      "      dtype='object')\n"
     ]
    }
   ],
   "source": [
    "df_dummies = pd.get_dummies(df)\n",
    "df_dummies = df_dummies.drop(columns=['y_no', 'duration'])\n",
    "\n",
    "print (\"The data has %d attributes\" % (len(df_dummies.columns) - 1))\n",
    "f_names = df_dummies.columns[:-1]\n",
    "print (\"Feature names:\", f_names)"
   ]
  },
  {
   "cell_type": "markdown",
   "metadata": {},
   "source": [
    "## Plot histogram of `y_yes`"
   ]
  },
  {
   "cell_type": "code",
   "execution_count": 6,
   "metadata": {},
   "outputs": [
    {
     "name": "stderr",
     "output_type": "stream",
     "text": [
      "/Library/Frameworks/Python.framework/Versions/3.6/lib/python3.6/site-packages/scipy/stats/stats.py:1713: FutureWarning: Using a non-tuple sequence for multidimensional indexing is deprecated; use `arr[tuple(seq)]` instead of `arr[seq]`. In the future this will be interpreted as an array index, `arr[np.array(seq)]`, which will result either in an error or a different result.\n",
      "  return np.add.reduce(sorted[indexer] * weights, axis=axis) / sumval\n"
     ]
    },
    {
     "data": {
      "text/plain": [
       "<matplotlib.axes._subplots.AxesSubplot at 0x11ba3c6d8>"
      ]
     },
     "execution_count": 6,
     "metadata": {},
     "output_type": "execute_result"
    },
    {
     "data": {
      "image/png": "[encoded data removed]",
      "text/plain": [
       "<matplotlib.figure.Figure at 0x11baa52e8>"
      ]
     },
     "metadata": {
      "needs_background": "light"
     },
     "output_type": "display_data"
    }
   ],
   "source": [
    "%matplotlib inline\n",
    "sns.distplot(df_dummies['y_yes'], kde=False)"
   ]
  },
  {
   "cell_type": "markdown",
   "metadata": {},
   "source": [
    "## Run Classifier"
   ]
  },
  {
   "cell_type": "code",
   "execution_count": 7,
   "metadata": {},
   "outputs": [],
   "source": [
    "# convert DataFrame to numpy arrays\n",
    "df_arr = df_dummies.values\n",
    "features = df_arr[:,:-1]\n",
    "targets = df_arr[:,-1]"
   ]
  },
  {
   "cell_type": "code",
   "execution_count": 8,
   "metadata": {},
   "outputs": [
    {
     "name": "stderr",
     "output_type": "stream",
     "text": [
      "/Library/Frameworks/Python.framework/Versions/3.6/lib/python3.6/site-packages/sklearn/ensemble/forest.py:246: FutureWarning: The default value of n_estimators will change from 10 in version 0.20 to 100 in 0.22.\n",
      "  \"10 in version 0.20 to 100 in 0.22.\", FutureWarning)\n"
     ]
    },
    {
     "name": "stdout",
     "output_type": "stream",
     "text": [
      "Results: [1. 1. 0. 0. 0. 0. 0. 0. 0. 1. 1. 1. 0. 1. 1. 0. 0. 0. 0. 0. 0. 1. 0. 0.\n",
      " 0. 1. 1. 0. 1. 0. 1. 0. 1. 1. 1. 1. 0. 0. 1. 0. 1. 0. 0. 1. 0. 0. 1. 1.\n",
      " 0. 0. 1. 0. 0. 1. 1. 0. 1. 1. 0. 1. 0. 0. 0. 0. 0. 0. 0. 0. 0. 0. 1. 0.\n",
      " 0. 1. 0. 0. 0. 0. 1. 0. 0. 1. 0. 0. 0. 0. 1. 0. 0. 0. 0. 1. 1. 0. 0. 0.\n",
      " 1. 1. 0. 0. 0. 0. 1. 1. 0. 0. 1. 0. 0. 1. 1. 1. 0. 0. 1. 1. 1. 0. 1. 0.\n",
      " 1. 0. 0. 0. 0. 1. 1. 0. 0. 0. 0. 1. 0. 1. 0. 0. 0. 0. 0. 0. 0. 0. 0. 1.\n",
      " 1. 0. 1. 0. 1. 0. 1. 0. 0. 0. 0. 0. 1. 1. 0. 0. 0. 0. 0. 1. 0. 1. 1. 1.\n",
      " 0. 1. 0. 0. 0. 0. 0. 0. 1. 0. 1. 0. 0. 0. 1. 0. 1. 0. 1. 1. 0. 0. 1. 1.\n",
      " 1. 0. 0. 0. 1. 1. 1. 0. 0. 0. 0. 0. 1. 0. 0. 0. 0. 0. 1. 0. 0. 1. 1. 0.\n",
      " 0. 0. 0. 0. 0. 0. 0. 0. 1. 1. 1. 0. 0. 0. 1. 0. 0. 0. 1. 0. 0. 0. 0. 1.\n",
      " 0. 1. 1. 1. 0. 0. 1. 0. 0. 0. 0. 0. 1. 1. 1. 1. 0. 1. 0. 0. 0. 0. 1. 1.\n",
      " 1. 1. 1. 0. 1. 0. 1. 0. 0. 0. 0. 0. 0. 0. 1. 0. 1. 0. 1. 0. 0. 1. 0. 0.\n",
      " 0. 1. 0. 0. 0. 0. 0. 1. 1. 0. 1. 0. 0. 0. 1. 0. 0. 1. 1. 0. 0. 0. 0. 0.\n",
      " 0. 0. 0. 1. 0. 1. 1. 1. 1. 1. 1. 1. 1. 1. 0. 0. 1. 1. 1. 0. 1. 0. 1. 0.\n",
      " 1. 0. 1. 1. 0. 0. 1. 1. 1. 0. 1. 1. 0. 0. 0. 0. 1. 0. 1. 0. 1. 0. 1. 1.\n",
      " 0. 1. 0. 0. 0. 1. 1. 1. 0. 1. 1. 1. 0. 1. 0. 0. 1. 1. 0. 0. 1. 1. 0. 1.\n",
      " 0. 0. 0. 0. 0. 1. 0. 1. 0. 0. 0. 0. 0. 0. 0. 0. 0. 0. 1. 0. 1. 0. 0. 0.\n",
      " 0. 1. 1. 1. 0. 1. 0. 0. 0. 0. 0. 0. 1. 1. 0. 0. 1. 1. 0. 1. 0. 0. 0. 0.\n",
      " 1. 0. 0. 0. 0. 0. 0. 0. 0. 0. 0. 1. 1. 0. 0. 0. 1. 0. 1. 0. 1. 0. 0. 0.\n",
      " 0. 0. 0. 0. 0. 0. 0. 0. 0. 1. 0. 0. 0. 0. 1. 1. 1. 0. 0. 1. 0. 0. 0. 0.\n",
      " 0. 1. 0. 0. 0. 0. 1. 0. 0. 0. 1. 0. 0. 0. 1. 0. 0. 1. 0. 0.]\n",
      "Accuracy: 0.618\n",
      "Confusion_Matrix:\n",
      "                 Pred: True  Pred: False\n",
      "  Actual: True          194          124\n",
      "  Actual: False          67          115\n"
     ]
    }
   ],
   "source": [
    "from sklearn.metrics import accuracy_score, confusion_matrix\n",
    "\n",
    "# train the classifer with the data before the 500th row\n",
    "clf.fit(features[:-500], targets[:-500])\n",
    "\n",
    "# make aprediction with the remaining 500 rows\n",
    "p = clf.predict(features[-500:])\n",
    "\n",
    "# show the results\n",
    "print (\"Results:\", p)\n",
    "print (\"Accuracy:\", accuracy_score (p, targets[-500:]))\n",
    "print (\"Confusion_Matrix:\")\n",
    "print (pd.DataFrame (confusion_matrix\n",
    "                     (p, targets[-500:], labels = [0, 1]),\n",
    "                     index = [\"  Actual: True\", \"  Actual: False\"],\n",
    "                     columns = [\"Pred: True\", \"Pred: False\"]))"
   ]
  },
  {
   "cell_type": "markdown",
   "metadata": {},
   "source": [
    "## Cross validation"
   ]
  },
  {
   "cell_type": "code",
   "execution_count": 12,
   "metadata": {},
   "outputs": [
    {
     "name": "stdout",
     "output_type": "stream",
     "text": [
      "Training (37069): [ 4119  4120  4121 ... 41185 41186 41187] | Test (4119): [   0    1    2 ... 4116 4117 4118]\n",
      "Training (37069): [    0     1     2 ... 41185 41186 41187] | Test (4119): [4119 4120 4121 ... 8235 8236 8237]\n",
      "Training (37069): [    0     1     2 ... 41185 41186 41187] | Test (4119): [ 8238  8239  8240 ... 12354 12355 12356]\n",
      "Training (37069): [    0     1     2 ... 41185 41186 41187] | Test (4119): [12357 12358 12359 ... 16473 16474 16475]\n",
      "Training (37069): [    0     1     2 ... 41185 41186 41187] | Test (4119): [16476 16477 16478 ... 20592 20593 20594]\n",
      "Training (37069): [    0     1     2 ... 41185 41186 41187] | Test (4119): [20595 20596 20597 ... 24711 24712 24713]\n",
      "Training (37069): [    0     1     2 ... 41185 41186 41187] | Test (4119): [24714 24715 24716 ... 28830 28831 28832]\n",
      "Training (37069): [    0     1     2 ... 41185 41186 41187] | Test (4119): [28833 28834 28835 ... 32949 32950 32951]\n",
      "Training (37070): [    0     1     2 ... 41185 41186 41187] | Test (4118): [32952 32953 32954 ... 37067 37068 37069]\n",
      "Training (37070): [    0     1     2 ... 37067 37068 37069] | Test (4118): [37070 37071 37072 ... 41185 41186 41187]\n",
      "\n",
      "Average accuracy: 87.21628268577568 %\n"
     ]
    }
   ],
   "source": [
    "from sklearn.model_selection import KFold, cross_val_score\n",
    "\n",
    "score = []\n",
    "k_fold = KFold(n_splits=10)\n",
    "\n",
    "for train_i, test_i in k_fold.split(features):\n",
    "    print('Training (%d): %s | Test (%d): %s' % (len(train_i), train_i, len(test_i), test_i))\n",
    "    clf.fit(features[train_i], targets[train_i])\n",
    "    score.append(clf.score(features[test_i], targets[test_i]))\n",
    "\n",
    "print('\\nAverage accuracy: {} %'.format(np.mean(score)*100))"
   ]
  },
  {
   "cell_type": "markdown",
   "metadata": {},
   "source": [
    "## Feature importances\n",
    "[feature_importances_](https://scikit-learn.org/stable/auto_examples/ensemble/plot_forest_importances.html) evaluates the importance of features in a classification task."
   ]
  },
  {
   "cell_type": "markdown",
   "metadata": {},
   "source": [
    "### Obtain feature importance"
   ]
  },
  {
   "cell_type": "code",
   "execution_count": 38,
   "metadata": {},
   "outputs": [
    {
     "name": "stdout",
     "output_type": "stream",
     "text": [
      "Importance of 62 features: [2.23090196e-01 1.45297918e-01 7.50299665e-03 4.38150062e-03\n",
      " 1.33172251e-02 9.04982811e-03 9.65524218e-03 9.43161159e-02\n",
      " 9.66874691e-03 1.95443054e-02 1.46707113e-02 7.75887961e-03\n",
      " 5.19775102e-03 1.07019853e-02 7.86932227e-03 7.43070045e-03\n",
      " 1.11260288e-02 4.91455953e-03 1.67012472e-02 6.31652487e-03\n",
      " 2.52884532e-03 1.20912595e-02 1.94344301e-02 1.56792992e-02\n",
      " 9.31939050e-04 8.73222948e-03 8.34916564e-03 1.27721214e-02\n",
      " 1.59935201e-02 2.37966188e-04 1.16032278e-02 1.51725142e-02\n",
      " 7.44455513e-03 9.39120371e-03 9.17843111e-03 4.00689011e-06\n",
      " 2.29113974e-02 2.76529644e-03 2.43532042e-02 1.67693170e-02\n",
      " 3.02249024e-03 1.74733166e-02 6.38542257e-03 4.52746061e-03\n",
      " 2.58671512e-03 4.07731809e-04 2.56891764e-05 1.46094842e-03\n",
      " 7.60395636e-03 7.99468161e-03 6.85633265e-03 1.63530037e-03\n",
      " 6.20091083e-03 0.00000000e+00 1.42697125e-02 1.46165970e-02\n",
      " 1.47671289e-02 1.53574614e-02 1.61809005e-02 3.70249294e-03\n",
      " 3.56320675e-03 6.50582823e-03]\n",
      "Number of trees in the classifier: 10\n",
      "\n",
      "Feature ranking:\n",
      "  1. age (0.223090)\n",
      "  2. campaign (0.145298)\n",
      "  3. euribor3m (0.094316)\n",
      "  4. housing_yes (0.024353)\n",
      "  5. housing_no (0.022911)\n",
      "  6. job_admin. (0.019544)\n",
      "  7. marital_married (0.019434)\n",
      "  8. loan_yes (0.017473)\n",
      "  9. loan_no (0.016769)\n",
      " 10. job_technician (0.016701)\n",
      " 11. day_of_week_wed (0.016181)\n",
      " 12. education_high.school (0.015994)\n",
      " 13. marital_single (0.015679)\n",
      " 14. day_of_week_tue (0.015357)\n",
      " 15. education_university.degree (0.015173)\n",
      " 16. day_of_week_thu (0.014767)\n",
      " 17. job_blue-collar (0.014671)\n",
      " 18. day_of_week_mon (0.014617)\n",
      " 19. day_of_week_fri (0.014270)\n",
      " 20. emp.var.rate (0.013317)\n",
      " 21. education_basic.9y (0.012772)\n",
      " 22. marital_divorced (0.012091)\n",
      " 23. education_professional.course (0.011603)\n",
      " 24. job_services (0.011126)\n",
      " 25. job_management (0.010702)\n",
      " 26. nr.employed (0.009669)\n",
      " 27. cons.conf.idx (0.009655)\n",
      " 28. default_no (0.009391)\n",
      " 29. default_unknown (0.009178)\n",
      " 30. cons.price.idx (0.009050)\n",
      " 31. education_basic.4y (0.008732)\n",
      " 32. education_basic.6y (0.008349)\n",
      " 33. month_mar (0.007995)\n",
      " 34. job_retired (0.007869)\n",
      " 35. job_entrepreneur (0.007759)\n",
      " 36. month_jun (0.007604)\n",
      " 37. pdays (0.007503)\n",
      " 38. education_unknown (0.007445)\n",
      " 39. job_self-employed (0.007431)\n",
      " 40. month_may (0.006856)\n",
      " 41. poutcome_success (0.006506)\n",
      " 42. contact_cellular (0.006385)\n",
      " 43. job_unemployed (0.006317)\n",
      " 44. month_oct (0.006201)\n",
      " 45. job_housemaid (0.005198)\n",
      " 46. job_student (0.004915)\n",
      " 47. contact_telephone (0.004527)\n",
      " 48. previous (0.004382)\n",
      " 49. poutcome_failure (0.003702)\n",
      " 50. poutcome_nonexistent (0.003563)\n",
      " 51. loan_unknown (0.003022)\n",
      " 52. housing_unknown (0.002765)\n",
      " 53. month_apr (0.002587)\n",
      " 54. job_unknown (0.002529)\n",
      " 55. month_nov (0.001635)\n",
      " 56. month_jul (0.001461)\n",
      " 57. marital_unknown (0.000932)\n",
      " 58. month_aug (0.000408)\n",
      " 59. education_illiterate (0.000238)\n",
      " 60. month_dec (0.000026)\n",
      " 61. default_yes (0.000004)\n",
      " 62. month_sep (0.000000)\n"
     ]
    }
   ],
   "source": [
    "# evaluate the feature importance\n",
    "imp = clf.feature_importances_\n",
    "\n",
    "# standard deviation of feature importance of each tree\n",
    "std = np.std([tree.feature_importances_ for tree in clf.estimators_], axis=0)\n",
    "\n",
    "# index to sort importance array\n",
    "indices = np.argsort(imp)[::-1]\n",
    "\n",
    "# print variables\n",
    "print (\"Importance of %d features: %s\" % (len(imp), imp))\n",
    "print (\"Number of trees in the classifier: %d\\n\" % len(clf.estimators_))\n",
    "\n",
    "# Print the feature ranking\n",
    "print(\"Feature ranking:\")\n",
    "for f in range(len(imp)):\n",
    "    print(\" %2d. %s (%f)\" % (f + 1, f_names[indices[f]],  imp[indices[f]]))"
   ]
  },
  {
   "cell_type": "markdown",
   "metadata": {},
   "source": [
    "### Plot feature importance"
   ]
  },
  {
   "cell_type": "code",
   "execution_count": 58,
   "metadata": {},
   "outputs": [
    {
     "data": {
      "text/plain": [
       "(-1, 10)"
      ]
     },
     "execution_count": 58,
     "metadata": {},
     "output_type": "execute_result"
    },
    {
     "data": {
      "image/png": "[encoded data removed]",
      "text/plain": [
       "<matplotlib.figure.Figure at 0x122ad0c50>"
      ]
     },
     "metadata": {
      "needs_background": "light"
     },
     "output_type": "display_data"
    }
   ],
   "source": [
    "num = 10 # number of top features to plot\n",
    "\n",
    "fig = plt.figure()\n",
    "fig.set_size_inches(15,8)\n",
    "plt.title(\"Top %d Feature Importances\" % num)\n",
    "plt.bar(range(num), imp[indices[:num]], color='b', yerr=std[indices[:num]], align=\"center\")\n",
    "plt.xticks(range(num), np.array(feature_names)[indices[:num]])\n",
    "plt.xlim([-1, num])"
   ]
  },
  {
   "cell_type": "markdown",
   "metadata": {},
   "source": [
    "## Confusion Matrix\n",
    "Plot the prediction result with 500 data (prediction is made in Run Classifier section)."
   ]
  },
  {
   "cell_type": "code",
   "execution_count": 70,
   "metadata": {},
   "outputs": [
    {
     "data": {
      "image/png": "[encoded data removed]",
      "text/plain": [
       "<matplotlib.figure.Figure at 0x11ccb8ba8>"
      ]
     },
     "metadata": {
      "needs_background": "light"
     },
     "output_type": "display_data"
    }
   ],
   "source": [
    "from sklearn.metrics import confusion_matrix\n",
    "import itertools\n",
    "\n",
    "def plot_confusion_matrix(cm, classes,\n",
    "                          normalize=False,\n",
    "                          title='Confusion matrix',\n",
    "                          cmap=plt.cm.Blues):\n",
    "    plt.imshow(cm, interpolation='nearest', cmap=cmap)\n",
    "    plt.title(title)\n",
    "    plt.colorbar()\n",
    "    tick_marks = np.arange(len(classes))\n",
    "    plt.xticks(tick_marks, classes, rotation=45)\n",
    "    plt.yticks(tick_marks, classes)\n",
    "\n",
    "    # display confusion matrix values\n",
    "    thresh = cm.max() / 2.\n",
    "    for i, j in itertools.product(range(cm.shape[0]), range(cm.shape[1])):\n",
    "        t = \"(%.2f)\"%(cm[i, j])\n",
    "        plt.text(j, i, t,horizontalalignment=\"center\",\\\n",
    "                 color=\"white\" if cm[i, j] > thresh else \"black\")\n",
    "\n",
    "    plt.tight_layout()\n",
    "    plt.ylabel('True label')\n",
    "    plt.xlabel('Predicted label')\n",
    "\n",
    "cm = confusion_matrix(p, targets[-500:])\n",
    "#np.set_printoptions(precision=2)\n",
    "plt.figure()\n",
    "plot_confusion_matrix(cnf_matrix, normalize = False,\\\n",
    "                      classes=range(len(set(targets))), title='Confusion matrix')"
   ]
  },
  {
   "cell_type": "code",
   "execution_count": null,
   "metadata": {},
   "outputs": [],
   "source": []
  }
 ],
 "metadata": {
  "kernelspec": {
   "display_name": "Python 3",
   "language": "python",
   "name": "python3"
  },
  "language_info": {
   "codemirror_mode": {
    "name": "ipython",
    "version": 3
   },
   "file_extension": ".py",
   "mimetype": "text/x-python",
   "name": "python",
   "nbconvert_exporter": "python",
   "pygments_lexer": "ipython3",
   "version": "3.6.4"
  }
 },
 "nbformat": 4,
 "nbformat_minor": 2
}
